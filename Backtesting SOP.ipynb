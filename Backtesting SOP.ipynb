{
 "cells": [
  {
   "cell_type": "markdown",
   "id": "3b3aa46f",
   "metadata": {},
   "source": [
    "## Import"
   ]
  },
  {
   "cell_type": "code",
   "execution_count": 2,
   "id": "1a9b97ce",
   "metadata": {
    "scrolled": true
   },
   "outputs": [
    {
     "name": "stderr",
     "output_type": "stream",
     "text": [
      "/Users/justinleng/Library/Python/3.9/lib/python/site-packages/tqdm/auto.py:21: TqdmWarning: IProgress not found. Please update jupyter and ipywidgets. See https://ipywidgets.readthedocs.io/en/stable/user_install.html\n",
      "  from .autonotebook import tqdm as notebook_tqdm\n"
     ]
    }
   ],
   "source": [
    "from bt import Backtest, Strategy\n",
    "import pandas as pd"
   ]
  },
  {
   "cell_type": "markdown",
   "id": "17813a92",
   "metadata": {},
   "source": [
    "## Data Query"
   ]
  },
  {
   "cell_type": "code",
   "execution_count": 3,
   "id": "1b8c7f97",
   "metadata": {},
   "outputs": [],
   "source": [
    "data = {\n",
    "    'Date': ['2023-09-01', '2023-09-02', '2023-09-03', '2023-09-04', '2023-09-05'],\n",
    "    'Open': [150.0, 151.2, 153.5, 152.8, 152.0],\n",
    "    'High': [152.3, 153.8, 155.0, 154.2, 153.5],\n",
    "    'Low': [149.5, 150.7, 152.0, 151.5, 151.2],\n",
    "    'Close': [151.5, 153.0, 154.5, 153.2, 152.8],\n",
    "    'Volume': [100000, 120000, 95000, 110000, 105000]\n",
    "}\n",
    "\n",
    "# 1a) Create a DataFrame\n",
    "df = pd.DataFrame(data)\n",
    "\n",
    "# 1b) Convert the 'Date' column to datetime format\n",
    "df['Date'] = pd.to_datetime(df['Date'])\n",
    "df = df.set_index(\"Date\")"
   ]
  },
  {
   "cell_type": "markdown",
   "id": "05f79d8e",
   "metadata": {},
   "source": [
    "## Strategy Creation"
   ]
  },
  {
   "cell_type": "code",
   "execution_count": 4,
   "id": "2e6c378e",
   "metadata": {},
   "outputs": [],
   "source": [
    "class CrossOver(Strategy):\n",
    "    n1 = 10\n",
    "    n2 = 20\n",
    "    ema_period = 5\n",
    "    rsi_period = 5\n",
    "    upper_bound = 55\n",
    "    lower_bound = 10\n",
    "    \n",
    "\n",
    "    def init(self):\n",
    "        close = self.data.Close\n",
    "        # self.sma1 = self.I(SMA, close, self.n1)\n",
    "        # self.sma2 = self.I(SMA, close, self.n2)\n",
    "\n",
    "    def next(self):\n",
    "        pass"
   ]
  },
  {
   "cell_type": "markdown",
   "id": "88407eaa",
   "metadata": {},
   "source": [
    "## Backtest"
   ]
  },
  {
   "cell_type": "markdown",
   "metadata": {},
   "source": [
    "#### Run"
   ]
  },
  {
   "cell_type": "code",
   "execution_count": 5,
   "id": "75d3358c",
   "metadata": {},
   "outputs": [],
   "source": [
    "strategy_params = {\n",
    "    \"ema_period\": 14,\n",
    "    \"rsi_period\": 14,\n",
    "    \"upper_bound\": 14,\n",
    "    \"lower_bound\": 14,\n",
    "}         \n",
    "\n",
    "bt = Backtest(df, strategy=CrossOver, cash=100_000)\n",
    "res = bt.run()"
   ]
  },
  {
   "cell_type": "markdown",
   "metadata": {},
   "source": [
    "#### Optimize"
   ]
  },
  {
   "cell_type": "code",
   "execution_count": 6,
   "metadata": {},
   "outputs": [
    {
     "data": {
      "text/plain": [
       "(Start                     2023-09-01 00:00:00\n",
       " End                       2023-09-05 00:00:00\n",
       " Duration                      4 days 00:00:00\n",
       " Exposure Time [%]                         0.0\n",
       " Equity Final [$]                     100000.0\n",
       " Equity Peak [$]                      100000.0\n",
       " Return [%]                                0.0\n",
       " Buy & Hold Return [%]                0.858086\n",
       " Return (Ann.) [%]                         0.0\n",
       " Volatility (Ann.) [%]                     0.0\n",
       " Sharpe Ratio                              NaN\n",
       " Sortino Ratio                             NaN\n",
       " Calmar Ratio                              NaN\n",
       " Max. Drawdown [%]                        -0.0\n",
       " Avg. Drawdown [%]                         NaN\n",
       " Max. Drawdown Duration                    NaN\n",
       " Avg. Drawdown Duration                    NaN\n",
       " # Trades                                    0\n",
       " Win Rate [%]                              NaN\n",
       " Best Trade [%]                            NaN\n",
       " Worst Trade [%]                           NaN\n",
       " Avg. Trade [%]                            NaN\n",
       " Max. Trade Duration                       NaN\n",
       " Avg. Trade Duration                       NaN\n",
       " Profit Factor                             NaN\n",
       " Expectancy [%]                            NaN\n",
       " SQN                                       NaN\n",
       " Kelly Criterion                           NaN\n",
       " _strategy                 CrossOver(ema_pe...\n",
       " _equity_curve                           Eq...\n",
       " _trades                   Empty DataFrame\n",
       " ...\n",
       " dtype: object,\n",
       " <Strategy CrossOver(ema_period=120,rsi_period=18,upper_bound=84,lower_bound=35)>)"
      ]
     },
     "execution_count": 6,
     "metadata": {},
     "output_type": "execute_result"
    }
   ],
   "source": [
    "strategy_params_limit = {\n",
    "    \"ema_period\": [5, 200],\n",
    "    \"rsi_period\": [5, 200],\n",
    "    \"upper_bound\": [55, 90],\n",
    "    \"lower_bound\": [10, 45],\n",
    "}\n",
    "\n",
    "result = bt.optimize(strategy_params_limit=strategy_params_limit)\n",
    "result, result._strategy"
   ]
  },
  {
   "cell_type": "markdown",
   "id": "196162fc",
   "metadata": {},
   "source": [
    "## Event Bias Analysis"
   ]
  },
  {
   "cell_type": "code",
   "execution_count": null,
   "id": "6fae94e8",
   "metadata": {},
   "outputs": [],
   "source": []
  },
  {
   "cell_type": "markdown",
   "id": "f5f437cc",
   "metadata": {},
   "source": [
    "## Walk Forward Optimisation"
   ]
  },
  {
   "cell_type": "code",
   "execution_count": 8,
   "id": "55ee9a97",
   "metadata": {},
   "outputs": [
    {
     "data": {
      "image/png": "[encoded data removed]",
      "text/plain": [
       "<Figure size 1200x600 with 1 Axes>"
      ]
     },
     "metadata": {},
     "output_type": "display_data"
    },
    {
     "name": "stdout",
     "output_type": "stream",
     "text": [
      "Walk Forward 1\n",
      "Using parameters:10\n",
      "Start                     2023-09-01 00:00:00\n",
      "End                       2023-09-04 00:00:00\n",
      "Duration                      3 days 00:00:00\n",
      "Exposure Time [%]                         0.0\n",
      "Equity Final [$]                      10000.0\n",
      "Equity Peak [$]                       10000.0\n",
      "Return [%]                                0.0\n",
      "Buy & Hold Return [%]                1.122112\n",
      "Return (Ann.) [%]                         0.0\n",
      "Volatility (Ann.) [%]                     0.0\n",
      "Sharpe Ratio                              NaN\n",
      "Sortino Ratio                             NaN\n",
      "Calmar Ratio                              NaN\n",
      "Max. Drawdown [%]                        -0.0\n",
      "Avg. Drawdown [%]                         NaN\n",
      "Max. Drawdown Duration                    NaN\n",
      "Avg. Drawdown Duration                    NaN\n",
      "# Trades                                    0\n",
      "Win Rate [%]                              NaN\n",
      "Best Trade [%]                            NaN\n",
      "Worst Trade [%]                           NaN\n",
      "Avg. Trade [%]                            NaN\n",
      "Max. Trade Duration                       NaN\n",
      "Avg. Trade Duration                       NaN\n",
      "Profit Factor                             NaN\n",
      "Expectancy [%]                            NaN\n",
      "SQN                                       NaN\n",
      "Kelly Criterion                           NaN\n",
      "_strategy                           CrossOver\n",
      "_equity_curve                          Equ...\n",
      "_trades                   Empty DataFrame\n",
      "...\n",
      "dtype: object\n",
      "\n",
      "\n",
      "Optimization: CrossOver(ema_period=42,rsi_period=162,upper_bound=71,lower_bound=32)\n",
      "Walk Forward 2\n",
      "Using parameters:10\n",
      "Start                     2023-09-02 00:00:00\n",
      "End                       2023-09-05 00:00:00\n",
      "Duration                      3 days 00:00:00\n",
      "Exposure Time [%]                         0.0\n",
      "Equity Final [$]                      10000.0\n",
      "Equity Peak [$]                       10000.0\n",
      "Return [%]                                0.0\n",
      "Buy & Hold Return [%]               -0.130719\n",
      "Return (Ann.) [%]                         0.0\n",
      "Volatility (Ann.) [%]                     0.0\n",
      "Sharpe Ratio                              NaN\n",
      "Sortino Ratio                             NaN\n",
      "Calmar Ratio                              NaN\n",
      "Max. Drawdown [%]                        -0.0\n",
      "Avg. Drawdown [%]                         NaN\n",
      "Max. Drawdown Duration                    NaN\n",
      "Avg. Drawdown Duration                    NaN\n",
      "# Trades                                    0\n",
      "Win Rate [%]                              NaN\n",
      "Best Trade [%]                            NaN\n",
      "Worst Trade [%]                           NaN\n",
      "Avg. Trade [%]                            NaN\n",
      "Max. Trade Duration                       NaN\n",
      "Avg. Trade Duration                       NaN\n",
      "Profit Factor                             NaN\n",
      "Expectancy [%]                            NaN\n",
      "SQN                                       NaN\n",
      "Kelly Criterion                           NaN\n",
      "_strategy                           CrossOver\n",
      "_equity_curve                          Equ...\n",
      "_trades                   Empty DataFrame\n",
      "...\n",
      "dtype: object\n",
      "\n",
      "\n",
      "Optimization: CrossOver(ema_period=39,rsi_period=106,upper_bound=83,lower_bound=16)\n"
     ]
    }
   ],
   "source": [
    "bt.runWF(iter=2, strategy_params_limit=strategy_params_limit)"
   ]
  },
  {
   "cell_type": "markdown",
   "id": "8a751908",
   "metadata": {},
   "source": [
    "## Results and Conclusion"
   ]
  },
  {
   "cell_type": "code",
   "execution_count": null,
   "id": "4e499d08",
   "metadata": {},
   "outputs": [],
   "source": []
  }
 ],
 "metadata": {
  "kernelspec": {
   "display_name": "Python 3 (ipykernel)",
   "language": "python",
   "name": "python3"
  },
  "language_info": {
   "codemirror_mode": {
    "name": "ipython",
    "version": 3
   },
   "file_extension": ".py",
   "mimetype": "text/x-python",
   "name": "python",
   "nbconvert_exporter": "python",
   "pygments_lexer": "ipython3",
   "version": "3.9.6"
  }
 },
 "nbformat": 4,
 "nbformat_minor": 5
}
